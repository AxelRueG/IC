{
 "cells": [
  {
   "cell_type": "code",
   "execution_count": 1,
   "metadata": {},
   "outputs": [],
   "source": [
    "import numpy as np\n",
    "import matplotlib.pyplot as plt"
   ]
  },
  {
   "cell_type": "code",
   "execution_count": 38,
   "metadata": {},
   "outputs": [],
   "source": [
    "class SOM:\n",
    "\n",
    "    def __init__(self, n_input, map_dim=(10,10)) -> None:\n",
    "        self.n_input = n_input              # Dimensión de los datos de entrada\n",
    "        self.map_dim = map_dim              # Dimensión del mapa SOM (defoult 10x10)\n",
    "        self.pesos = np.random.rand(map_dim[0], map_dim[1], n_input)\n",
    "\n",
    "    def encontrar_neurona_ganadora(self, x):\n",
    "        distancias = np.linalg.norm(self.pesos - x, axis=2)      # distancia euclidea\n",
    "        index = np.unravel_index(np.argmin(distancias), distancias.shape)\n",
    "        return distancias[index], index  # nos devuelve el indice para la matriz\n",
    "\n",
    "    def actualizar_vecindad(self, index, k, distancia, coef_learn):\n",
    "        for i in range(max(0,index[0]-k), min(index[0]+k+1, self.pesos.shape[0])):\n",
    "            for j in range(max(0,index[1]-k), min(index[1]+k+1, self.pesos.shape[1])):\n",
    "                self.pesos[i,j] += (coef_learn * distancia)\n",
    "\n",
    "    def trn(self, data_set, vecindad = 5, epocs = [1000,1000,500], coef_learn=[0.5, 0.1]):\n",
    "        # Entrenamiento del SOM ajuste grueso\n",
    "        for _ in range(epocs[0]):\n",
    "            for x in data_set:\n",
    "                # Encontrar la neurona ganadora\n",
    "                dist, ganadora = self.encontrar_neurona_ganadora(x)\n",
    "                self.actualizar_vecindad(ganadora, 5, dist, coef_learn[0])\n",
    "        \n",
    "        # reduccion lineal\n",
    "        coefs = np.linspace(coef_learn[0],coef_learn[1],epocs[1])\n",
    "        vecindades = np.linspace(vecindad, 0, epocs[1]).astype(int)\n",
    "        for epoc in range(epocs[1]):\n",
    "            for x in data_set:\n",
    "                # Encontrar la neurona ganadora\n",
    "                dist, ganadora = self.encontrar_neurona_ganadora(x)\n",
    "                self.actualizar_vecindad(ganadora, vecindades[epoc], dist, coefs[epoc])\n",
    "        \n",
    "        # Entrenamiento del SOM ajuste fino\n",
    "        for _ in range(epocs[2]):\n",
    "            for x in data_set:\n",
    "                # Encontrar la neurona ganadora\n",
    "                dist, ganadora = self.encontrar_neurona_ganadora(x)\n",
    "                self.actualizar_vecindad(ganadora, 0, dist, coef_learn[1])\n",
    "\n"
   ]
  },
  {
   "cell_type": "code",
   "execution_count": 39,
   "metadata": {},
   "outputs": [
    {
     "data": {
      "text/plain": [
       "array([[[0.19318695, 0.55424586],\n",
       "        [0.6411391 , 0.12676017]]])"
      ]
     },
     "execution_count": 39,
     "metadata": {},
     "output_type": "execute_result"
    }
   ],
   "source": [
    "som = SOM(2,(1,2))\n",
    "\n",
    "som.pesos"
   ]
  },
  {
   "cell_type": "code",
   "execution_count": 40,
   "metadata": {},
   "outputs": [
    {
     "name": "stdout",
     "output_type": "stream",
     "text": [
      "[[0.92176138 0.94410219]]\n",
      "[[0.92176138 0.94410219]]\n",
      "(0, 0)\n"
     ]
    }
   ],
   "source": [
    "# som.encontrar_neurona_ganadora([1,1])\n",
    "dist = np.linalg.norm(som.pesos - [1, 1], axis=2)\n",
    "print(dist)\n",
    "print(som.distancia([1,1]))\n",
    "print(np.unravel_index(np.argmin(dist), dist.shape))"
   ]
  },
  {
   "cell_type": "code",
   "execution_count": 37,
   "metadata": {},
   "outputs": [
    {
     "name": "stdout",
     "output_type": "stream",
     "text": [
      "[0, 0, 0, 0, 2, 1, 0]\n",
      "[0, 0, 0, 2, 1, 0, 1]\n",
      "[0, 0, 2, 1, 0, 1, 2]\n",
      "[0, 2, 1, 0, 1, 2, 0]\n",
      "[2, 1, 0, 1, 2, 0, 0]\n",
      "[1, 0, 1, 2, 0, 0, 0]\n",
      "[0, 1, 2, 0, 0, 0, 0]\n"
     ]
    }
   ],
   "source": [
    "pesos = np.zeros([10,10])\n",
    "\n",
    "def vecindad(index, k, val):\n",
    "    iv = range(max(0,index[0]-k), min(index[0]+k+1, pesos.shape[0]))\n",
    "    jv = range(max(0,index[1]-k), min(index[1]+k+1, pesos.shape[1]))\n",
    "\n",
    "    for i in range(-k,k+1):\n",
    "        ronda = []\n",
    "        for j in range(-k,k+1):\n",
    "            # pesos[i,j] += val\n",
    "            a = abs(i+j)\n",
    "            ronda.append(a if a<k else 0)\n",
    "        print(ronda)\n",
    "\n",
    "vecindad((2,3), 3, 1)\n",
    "\n",
    "# plt.imshow(pesos, cmap='viridis')\n",
    "# plt.colorbar()\n",
    "\n",
    "# print(pesos)"
   ]
  }
 ],
 "metadata": {
  "kernelspec": {
   "display_name": "Python 3",
   "language": "python",
   "name": "python3"
  },
  "language_info": {
   "codemirror_mode": {
    "name": "ipython",
    "version": 3
   },
   "file_extension": ".py",
   "mimetype": "text/x-python",
   "name": "python",
   "nbconvert_exporter": "python",
   "pygments_lexer": "ipython3",
   "version": "3.11.5"
  },
  "orig_nbformat": 4
 },
 "nbformat": 4,
 "nbformat_minor": 2
}

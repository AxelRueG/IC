{
 "cells": [
  {
   "cell_type": "code",
   "execution_count": 62,
   "metadata": {},
   "outputs": [],
   "source": [
    "import numpy as np\n",
    "import matplotlib.pyplot as plt"
   ]
  },
  {
   "cell_type": "code",
   "execution_count": 63,
   "metadata": {},
   "outputs": [],
   "source": [
    "class Neurona:\n",
    "\n",
    "    def __init__(self, n_input, name) -> None:\n",
    "        self.weight = np.random.rand(n_input)-0.5\n",
    "        self.neighbours = []\n",
    "        self.n_neighbour = 0\n",
    "        self.name = name\n",
    "        \n",
    "    def add_neighbour(self, neigbour):\n",
    "        self.neighbours.append(neigbour)\n",
    "        self.n_neighbour+=1\n",
    "\n",
    "    def remove_neighbour(self, neigbour):\n",
    "        self.neighbours.remove(neigbour)\n",
    "        self.neighbours-=1\n",
    "\n",
    "    def __str__(self) -> str:\n",
    "        return self.name\n",
    "    \n",
    "    def distancia(self, x):\n",
    "        return sum((self.weight - x)**2)"
   ]
  },
  {
   "cell_type": "code",
   "execution_count": 65,
   "metadata": {},
   "outputs": [],
   "source": [
    "neuronas = []\n",
    "for i in range(5):\n",
    "    neurona = Neurona(2,f\"num{i}\")\n",
    "    try:\n",
    "        neuronas[-1].add_neighbour(neurona)\n",
    "        neurona.add_neighbour(neuronas[-1])\n",
    "    except:\n",
    "        pass\n",
    "    neuronas.append(neurona)\n",
    "\n"
   ]
  },
  {
   "cell_type": "code",
   "execution_count": 66,
   "metadata": {},
   "outputs": [
    {
     "name": "stdout",
     "output_type": "stream",
     "text": [
      "num0 -> ['num1']\n",
      "num1 -> ['num0', 'num2']\n",
      "num2 -> ['num1', 'num3']\n",
      "num3 -> ['num2', 'num4']\n",
      "num4 -> ['num3']\n"
     ]
    }
   ],
   "source": [
    "for n in neuronas:\n",
    "    print(f\"{n.name} -> {[p.__str__() for p in n.neighbours]}\")"
   ]
  },
  {
   "cell_type": "code",
   "execution_count": 69,
   "metadata": {},
   "outputs": [
    {
     "name": "stdout",
     "output_type": "stream",
     "text": [
      "[32.16668392522448, 33.37831857066078, 28.536606845133143, 31.43579714029342, 29.852386349019877]\n"
     ]
    },
    {
     "data": {
      "text/plain": [
       "1"
      ]
     },
     "execution_count": 69,
     "metadata": {},
     "output_type": "execute_result"
    }
   ],
   "source": [
    "# buscamos la ganadora\n",
    "x = np.array([5,2])\n",
    "d = [n.distancia(x) for n in neuronas]\n",
    "print(d)\n",
    "np.argmax(d)"
   ]
  },
  {
   "cell_type": "code",
   "execution_count": 64,
   "metadata": {},
   "outputs": [],
   "source": [
    "# x = np.array([2, 1.5])\n",
    "# w = np.random.randint(-10,10,[10,2])\n",
    "\n",
    "# X = np.tile(x, (w.shape[0],1))\n",
    "# np.argmax(sum(np.transpose((w - X)**2)))\n",
    "\n",
    "\n",
    "# x = np.array([[[1,2],[2,3]],[[4,3],[5,6]]])\n",
    "# x[0][1]\n"
   ]
  }
 ],
 "metadata": {
  "kernelspec": {
   "display_name": "Python 3",
   "language": "python",
   "name": "python3"
  },
  "language_info": {
   "codemirror_mode": {
    "name": "ipython",
    "version": 3
   },
   "file_extension": ".py",
   "mimetype": "text/x-python",
   "name": "python",
   "nbconvert_exporter": "python",
   "pygments_lexer": "ipython3",
   "version": "3.10.12"
  },
  "orig_nbformat": 4
 },
 "nbformat": 4,
 "nbformat_minor": 2
}

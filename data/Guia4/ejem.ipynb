{
 "cells": [
  {
   "cell_type": "code",
   "execution_count": 62,
   "metadata": {},
   "outputs": [],
   "source": [
    "import numpy as np\n",
    "import matplotlib.pyplot as plt"
   ]
  },
  {
   "cell_type": "code",
   "execution_count": 63,
   "metadata": {},
   "outputs": [],
   "source": [
    "class Neurona:\n",
    "\n",
    "    def __init__(self, n_input, name) -> None:\n",
    "        self.weight = np.random.rand(n_input)-0.5\n",
    "        self.neighbours = []\n",
    "        self.n_neighbour = 0\n",
    "        self.name = name\n",
    "        \n",
    "    def add_neighbour(self, neigbour):\n",
    "        self.neighbours.append(neigbour)\n",
    "        self.n_neighbour+=1\n",
    "\n",
    "    def remove_neighbour(self, neigbour):\n",
    "        self.neighbours.remove(neigbour)\n",
    "        self.neighbours-=1\n",
    "\n",
    "    def __str__(self) -> str:\n",
    "        return self.name\n",
    "    \n",
    "    def distancia(self, x):\n",
    "        return sum((self.weight - x)**2)"
   ]
  },
  {
   "cell_type": "code",
   "execution_count": 65,
   "metadata": {},
   "outputs": [],
   "source": [
    "neuronas = []\n",
    "for i in range(5):\n",
    "    neurona = Neurona(2,f\"num{i}\")\n",
    "    try:\n",
    "        neuronas[-1].add_neighbour(neurona)\n",
    "        neurona.add_neighbour(neuronas[-1])\n",
    "    except:\n",
    "        pass\n",
    "    neuronas.append(neurona)\n",
    "\n"
   ]
  },
  {
   "cell_type": "code",
   "execution_count": 66,
   "metadata": {},
   "outputs": [
    {
     "name": "stdout",
     "output_type": "stream",
     "text": [
      "num0 -> ['num1']\n",
      "num1 -> ['num0', 'num2']\n",
      "num2 -> ['num1', 'num3']\n",
      "num3 -> ['num2', 'num4']\n",
      "num4 -> ['num3']\n"
     ]
    }
   ],
   "source": [
    "for n in neuronas:\n",
    "    print(f\"{n.name} -> {[p.__str__() for p in n.neighbours]}\")"
   ]
  },
  {
   "cell_type": "code",
   "execution_count": 69,
   "metadata": {},
   "outputs": [
    {
     "name": "stdout",
     "output_type": "stream",
     "text": [
      "[32.16668392522448, 33.37831857066078, 28.536606845133143, 31.43579714029342, 29.852386349019877]\n"
     ]
    },
    {
     "data": {
      "text/plain": [
       "1"
      ]
     },
     "execution_count": 69,
     "metadata": {},
     "output_type": "execute_result"
    }
   ],
   "source": [
    "# buscamos la ganadora\n",
    "x = np.array([5,2])\n",
    "d = [n.distancia(x) for n in neuronas]\n",
    "print(d)\n",
    "np.argmax(d)"
   ]
  },
  {
   "cell_type": "code",
   "execution_count": 95,
   "metadata": {},
   "outputs": [],
   "source": [
    "import numpy as np\n",
    "import matplotlib.pyplot as plt\n",
    "\n",
    "\n",
    "class SOM:\n",
    "\n",
    "    def __init__(self, n_input, map_dim=(10,10), epocs=1000, learning_rate=0.1) -> None:\n",
    "        self.n_input = n_input              # Dimensión de los datos de entrada\n",
    "        self.map_dim = map_dim              # Dimensión del mapa SOM (defoult 10x10)\n",
    "        self.epocs = epocs                  # Número de épocas de entrenamiento\n",
    "        self.learning_rate = learning_rate  # Tasa de aprendizaje\n",
    "        self.pesos = np.random.rand(map_dim[0], map_dim[1], n_input)\n",
    "\n",
    "    def encontrar_neurona_ganadora(self, x):\n",
    "        distancias = np.linalg.norm(self.pesos - x, axis=2)      # distancia euclidea\n",
    "        ganadora = np.argmin(distancias)\n",
    "        return np.unravel_index(ganadora, distancias.shape) # nos devuelve el indice para la matriz\n",
    "\n",
    "    def trn(self, data_set):\n",
    "        # Entrenamiento del SOM\n",
    "        for epoc in range(self.epocs):\n",
    "            for x in data_set:\n",
    "                # Encontrar la neurona ganadora\n",
    "                ganadora = self.encontrar_neurona_ganadora(x)\n",
    "\n",
    "                # Actualizar los pesos de la neurona ganadora y sus vecinos\n",
    "                for i in range(self.map_dim[0]):\n",
    "                    for j in range(self.map_dim[1]):\n",
    "                        distancia = np.linalg.norm(np.array([i, j]) - np.array(ganadora))\n",
    "                        influencia = np.exp(-distancia / 2.0)  # Función de influencia\n",
    "                        self.pesos[i, j] += self.learning_rate * influencia * (x - self.pesos[i, j])\n"
   ]
  },
  {
   "cell_type": "code",
   "execution_count": 96,
   "metadata": {},
   "outputs": [
    {
     "data": {
      "image/png": "[encoded data removed]",
      "text/plain": [
       "<Figure size 640x480 with 2 Axes>"
      ]
     },
     "metadata": {},
     "output_type": "display_data"
    }
   ],
   "source": [
    "datos = np.random.rand(100, 2)\n",
    "\n",
    "som = SOM(2)\n",
    "som.trn(datos)\n",
    "\n",
    "plt.imshow(som.pesos[:, :, 0], cmap='viridis')  # Puedes elegir un mapa de colores, como 'viridis'\n",
    "plt.title(\"Mapa Autoorganizado (SOM)\")\n",
    "plt.colorbar()  # Agregar una barra de colores para referencia\n",
    "plt.show()"
   ]
  }
 ],
 "metadata": {
  "kernelspec": {
   "display_name": "Python 3",
   "language": "python",
   "name": "python3"
  },
  "language_info": {
   "codemirror_mode": {
    "name": "ipython",
    "version": 3
   },
   "file_extension": ".py",
   "mimetype": "text/x-python",
   "name": "python",
   "nbconvert_exporter": "python",
   "pygments_lexer": "ipython3",
   "version": "3.10.12"
  },
  "orig_nbformat": 4
 },
 "nbformat": 4,
 "nbformat_minor": 2
}
